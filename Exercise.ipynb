{
 "cells": [
  {
   "cell_type": "markdown",
   "metadata": {},
   "source": [
    "# Preparing employee data for safe release"
   ]
  },
  {
   "cell_type": "markdown",
   "metadata": {},
   "source": [
    "When we are dealing with real data, we need to make sure that there is no way our customers, clients, or other people's personal information can be traced or exposed.\n",
    "\n",
    "In this exercise we will use the **IBM HR Analytics Employee Attrition & Performance** dataset to practice Supression and Generalization techniques using Pandas and Scipy.\n",
    "\n",
    "We will anonymize categorical columns by converting them in numbers by encoding them. Like in the case of the column `Gender`, to be 0 or 1, and `Department`, to be as many departments are in the company. \n",
    "\n",
    "Remember that to generate sample data to be the most similar to the original one, we have to apply the best distribution fit for it; in this exercise we will use the `fisk` distribution for the `Age` column. For even more privacy and avoiding leak some infomation about the dataset, we will also replace the column names with numbers.\n",
    "\n",
    "A copy of the dataset has already been loaded as `df`. Feel free to use the interactive console to explore more of it: checking the informantion, the data types with `df.info()` and the number of unique values for each column using `df.nunique()`. \n",
    "\n",
    "\n",
    "\n",
    "\n",
    "1. Drop the unique and NaN values from the dataset.\n",
    "2. Anonymize the categorical columns by replacing to be encoded numeric labels.\n",
    "3. Obtain the parameters for sampling `Age` data using the `fisk` distribution, apply them and round the values.\n",
    "4. Replace the column names with numbers."
   ]
  },
  {
   "cell_type": "code",
   "execution_count": null,
   "metadata": {
    "ExecuteTime": {
     "end_time": "2018-08-12T10:40:15.592982Z",
     "start_time": "2018-08-12T10:40:14.775839Z"
    }
   },
   "outputs": [],
   "source": [
    "######## Pre code\n",
    "import pandas as pd\n",
    "import numpy as np\n",
    "import scipy.stats\n",
    "import statsmodels as sm\n",
    "from math import floor\n",
    "import matplotlib.pyplot as plt\n",
    "from sklearn_pandas import DataFrameMapper\n",
    "from sklearn.preprocessing import LabelEncoder\n",
    "import warnings\n",
    "warnings.filterwarnings(\"ignore\")\n",
    "# Multiple outputs per cell\n",
    "from IPython.core.interactiveshell import InteractiveShell\n",
    "InteractiveShell.ast_node_interactivity = \"all\"\n",
    "\n",
    "# Import label encoder \n",
    "from sklearn import preprocessing \n",
    "label_encoder = preprocessing.LabelEncoder() \n",
    "\n",
    "df = pd.read_csv(\"WA_Fn-UseC_-HR-Employee-Attrition.csv\")\n",
    "df.shape\n",
    "df.head()"
   ]
  },
  {
   "cell_type": "code",
   "execution_count": null,
   "metadata": {
    "ExecuteTime": {
     "end_time": "2018-08-12T10:40:15.638922Z",
     "start_time": "2018-08-12T10:40:15.629853Z"
    }
   },
   "outputs": [],
   "source": [
    "# Drop unique data and almost unique data for every row as well as NaN\n",
    "df.____(columns=[\"EmployeeNumber\", \"MonthlyIncome\", \"MonthlyRate\", \"DailyRate\"], inplace=True) \n",
    "df.____(inplace=True)\n",
    "\n",
    "# Encode labels of categorical variables\n",
    "for c in [\"Gender\", \"Attrition\", \"Department\", \"EducationField\", \"BusinessTravel\"]:\n",
    "    df[c]= ____(df[c]) \n",
    "\n",
    "# Apply the best probabilistic distribution fit for Age:fisk and round it.\n",
    "params = scipy.stats.fisk.____(df['Age'])\n",
    "df['Age'] = scipy.stats.fisk.____(size=len(df.index), *____).____()\n",
    "\n",
    "# Replace the column names with numbers and see the new generated dataset\n",
    "df.columns = list(____(df.shape[1]))\n",
    "df.head()"
   ]
  },
  {
   "cell_type": "code",
   "execution_count": null,
   "metadata": {},
   "outputs": [],
   "source": []
  },
  {
   "cell_type": "code",
   "execution_count": null,
   "metadata": {},
   "outputs": [],
   "source": []
  }
 ],
 "metadata": {
  "kernelspec": {
   "display_name": "Python 3",
   "language": "python",
   "name": "python3"
  },
  "language_info": {
   "codemirror_mode": {
    "name": "ipython",
    "version": 3
   },
   "file_extension": ".py",
   "mimetype": "text/x-python",
   "name": "python",
   "nbconvert_exporter": "python",
   "pygments_lexer": "ipython3",
   "version": "3.7.4"
  },
  "nbTranslate": {
   "displayLangs": [
    "*"
   ],
   "hotkey": "alt-t",
   "langInMainMenu": true,
   "sourceLang": "en",
   "targetLang": "fr",
   "useGoogleTranslate": true
  }
 },
 "nbformat": 4,
 "nbformat_minor": 2
}
