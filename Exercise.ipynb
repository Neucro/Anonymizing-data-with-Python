{
 "cells": [
  {
   "cell_type": "markdown",
   "metadata": {},
   "source": [
    "# Preparing the titanic for safe sailing"
   ]
  },
  {
   "cell_type": "markdown",
   "metadata": {},
   "source": [
    "It's clear that the Titanic didn't have a good ending. Nevertheless, we now have a great dataset to practice and if we were going to make use of similar data, we would need to make sure that there is no way our customers, clients, or other people's personal information can be traced or exposed.\n",
    "\n",
    "In this exercise we will practice some basic Supression andn Generalization techniques using Pandas and Scipy.\n",
    "\n",
    "A copy of the Titanic dataset has already been loaded as a Pandas dataframe called `df`. Feel free to use the interactive console to explore more of it: checking the informantion and the data types with `df.info()`.\n",
    "\n",
    "\n",
    "\n",
    "1. Drop the unique and NaN values from the dataset.\n",
    "2. Anonymize the `Sex`cloumn by replacing to be encoded numeric labels.\n",
    "3. Knowing that for the column \"age\" the best distribution fit is the \"fisk\", use it to obtain the necessary parameters and apply it to later generate sample data close to the original ones.\n",
    "4. For even more privacy and avoiding leak some infomation about the dataset, replace the column names with numbers."
   ]
  },
  {
   "cell_type": "code",
   "execution_count": null,
   "metadata": {
    "ExecuteTime": {
     "end_time": "2018-08-12T10:40:15.592982Z",
     "start_time": "2018-08-12T10:40:14.775839Z"
    }
   },
   "outputs": [],
   "source": [
    "######## Pre code\n",
    "import pandas as pd\n",
    "import numpy as np\n",
    "import scipy.stats\n",
    "import statsmodels as sm\n",
    "from math import floor\n",
    "import matplotlib.pyplot as plt\n",
    "from sklearn_pandas import DataFrameMapper\n",
    "from sklearn.preprocessing import LabelEncoder\n",
    "import warnings\n",
    "warnings.filterwarnings(\"ignore\")\n",
    "# Multiple outputs per cell\n",
    "from IPython.core.interactiveshell import InteractiveShell\n",
    "InteractiveShell.ast_node_interactivity = \"all\"\n",
    "\n",
    "# Import label encoder \n",
    "from sklearn import preprocessing \n",
    "label_encoder = preprocessing.LabelEncoder() \n",
    "\n",
    "df = pd.read_csv(\"titanic_train.csv\")\n",
    "df.shape\n",
    "df"
   ]
  },
  {
   "cell_type": "code",
   "execution_count": null,
   "metadata": {
    "ExecuteTime": {
     "end_time": "2018-08-12T10:40:15.638922Z",
     "start_time": "2018-08-12T10:40:15.629853Z"
    }
   },
   "outputs": [],
   "source": [
    "# Drop unique data and almost unique data for every row as well as NaN\n",
    "df.____(columns=[\"PassengerId\", \"Ticket\", \"Cabin\", \"Name\", \"Fare\"], inplace=True) \n",
    "df.____(inplace=True)\n",
    "\n",
    "# Encode labels in column 'Sex' so it's 0 or 1.\n",
    "df['Sex']= ____\n",
    "\n",
    "# Apply the best probabilistic distribution fit for Age:fisk and round it.\n",
    "params = scipy.stats.____(df['Age'])\n",
    "df['Age'] = scipy.stats.fisk.____(size=len(df.index), *____).____()\n",
    "\n",
    "# Replace the column names with numbers and see the new generated dataset\n",
    "df.columns = list(____(df.shape[1]))\n",
    "df.head()"
   ]
  },
  {
   "cell_type": "code",
   "execution_count": null,
   "metadata": {},
   "outputs": [],
   "source": []
  },
  {
   "cell_type": "code",
   "execution_count": null,
   "metadata": {},
   "outputs": [],
   "source": []
  }
 ],
 "metadata": {
  "kernelspec": {
   "display_name": "Python 3",
   "language": "python",
   "name": "python3"
  },
  "language_info": {
   "codemirror_mode": {
    "name": "ipython",
    "version": 3
   },
   "file_extension": ".py",
   "mimetype": "text/x-python",
   "name": "python",
   "nbconvert_exporter": "python",
   "pygments_lexer": "ipython3",
   "version": "3.7.4"
  },
  "nbTranslate": {
   "displayLangs": [
    "*"
   ],
   "hotkey": "alt-t",
   "langInMainMenu": true,
   "sourceLang": "en",
   "targetLang": "fr",
   "useGoogleTranslate": true
  }
 },
 "nbformat": 4,
 "nbformat_minor": 2
}
